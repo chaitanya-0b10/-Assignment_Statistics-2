{
 "cells": [
  {
   "cell_type": "markdown",
   "id": "9973d0da-a3f2-4e8e-a2c1-5efa3dd4280a",
   "metadata": {},
   "source": [
    "1. Explain the properties of the F-distribution. "
   ]
  },
  {
   "cell_type": "code",
   "execution_count": 40,
   "id": "763fba91-281e-4d34-a0d4-d727a0e7777c",
   "metadata": {},
   "outputs": [
    {
     "data": {
      "text/plain": [
       "'\\nThe F-distribution, also known as the Fisher-Snedecor distribution, \\nis a continuous probability distribution that arises frequently in the context of hypothesis testing,\\nparticularly in the analysis of variance (ANOVA) and F-tests.\\n\\nPositively Skewed: The F-distribution is not symmetrical; it is positively skewed,\\nmeaning it has a long right tail1.\\nRange: The values of the F-distribution range from 0 to infinity.\\nIt cannot take negative values because it is derived from the ratio of two chi-square distributions, \\nwhich are always positive\\n'"
      ]
     },
     "execution_count": 40,
     "metadata": {},
     "output_type": "execute_result"
    }
   ],
   "source": [
    "'''\n",
    "The F-distribution, also known as the Fisher-Snedecor distribution, \n",
    "is a continuous probability distribution that arises frequently in the context of hypothesis testing,\n",
    "particularly in the analysis of variance (ANOVA) and F-tests.\n",
    "\n",
    "Positively Skewed: The F-distribution is not symmetrical; it is positively skewed,\n",
    "meaning it has a long right tail1.\n",
    "Range: The values of the F-distribution range from 0 to infinity.\n",
    "It cannot take negative values because it is derived from the ratio of two chi-square distributions, \n",
    "which are always positive\n",
    "'''"
   ]
  },
  {
   "cell_type": "markdown",
   "id": "2525b7d1-074b-4076-bd94-5a16269bb99b",
   "metadata": {},
   "source": [
    "2. In which types of statistical tests is the F-distribution used, and why is it appropriate for these tests?"
   ]
  },
  {
   "cell_type": "code",
   "execution_count": 43,
   "id": "e672b1c3-bc3b-4701-ae49-f5d6ced0aad5",
   "metadata": {},
   "outputs": [
    {
     "data": {
      "text/plain": [
       "'\\nAnalysis of Variance (ANOVA): It compares the variances between groups to determine\\nif there are significant differences among group means.\\n\\nRegression Analysis: It tests the overall significance of a regression model by\\ncomparing the model with and without the predictors.\\n\\nF-test for Equality of Variances: It compares the variances of two populations to check \\nif they are equal.\\n'"
      ]
     },
     "execution_count": 43,
     "metadata": {},
     "output_type": "execute_result"
    }
   ],
   "source": [
    "'''\n",
    "Analysis of Variance (ANOVA): It compares the variances between groups to determine\n",
    "if there are significant differences among group means.\n",
    "\n",
    "Regression Analysis: It tests the overall significance of a regression model by\n",
    "comparing the model with and without the predictors.\n",
    "\n",
    "F-test for Equality of Variances: It compares the variances of two populations to check \n",
    "if they are equal.\n",
    "'''"
   ]
  },
  {
   "cell_type": "markdown",
   "id": "f4c3f054-9c1e-43e2-9e33-304c19386398",
   "metadata": {},
   "source": [
    " 3. What are the key assumptions required for conducting an F-test to compare the variances of two \n",
    "populations?"
   ]
  },
  {
   "cell_type": "code",
   "execution_count": 46,
   "id": "0bc2f896-5755-4e63-a92f-f524742a967b",
   "metadata": {},
   "outputs": [
    {
     "data": {
      "text/plain": [
       "'\\nIndependence: The samples drawn from the two populations must be\\nindependent of each other.\\n\\nNormality: The data in each population should be approximately normally distributed.\\n\\nHomoscedasticity: The populations from which the samples are drawn should have equal\\nvariances.\\n'"
      ]
     },
     "execution_count": 46,
     "metadata": {},
     "output_type": "execute_result"
    }
   ],
   "source": [
    "'''\n",
    "Independence: The samples drawn from the two populations must be\n",
    "independent of each other.\n",
    "\n",
    "Normality: The data in each population should be approximately normally distributed.\n",
    "\n",
    "Homoscedasticity: The populations from which the samples are drawn should have equal\n",
    "variances.\n",
    "'''"
   ]
  },
  {
   "cell_type": "markdown",
   "id": "63dd3b5e-b4a2-4e33-bccf-47572f3a9a03",
   "metadata": {},
   "source": [
    "4. What is the purpose of ANOVA, and how does it differ from a t-test? "
   ]
  },
  {
   "cell_type": "code",
   "execution_count": 49,
   "id": "591771b5-0471-4838-bb6f-27193b65fa82",
   "metadata": {},
   "outputs": [
    {
     "data": {
      "text/plain": [
       "'\\nANOVA is used to determine whether there are any statistically significant \\ndifferences between the means of three or more independent groups. \\nIt helps in understanding if at least one group mean is different from the others. \\nANOVA is particularly useful in experiments involving multiple groups and factors, \\nallowing researchers to test for interactions between factors.\\n\\nA t-test is used to compare the means of two groups to see if they are significantly \\ndifferent from each other\\n'"
      ]
     },
     "execution_count": 49,
     "metadata": {},
     "output_type": "execute_result"
    }
   ],
   "source": [
    "'''\n",
    "ANOVA is used to determine whether there are any statistically significant \n",
    "differences between the means of three or more independent groups. \n",
    "It helps in understanding if at least one group mean is different from the others. \n",
    "ANOVA is particularly useful in experiments involving multiple groups and factors, \n",
    "allowing researchers to test for interactions between factors.\n",
    "\n",
    "A t-test is used to compare the means of two groups to see if they are significantly \n",
    "different from each other\n",
    "'''"
   ]
  },
  {
   "cell_type": "markdown",
   "id": "fa86d007-6c1d-4412-8f98-850d634623b8",
   "metadata": {},
   "source": [
    "5. Explain when and why you would use a one-way ANOVA instead of multiple t-tests when comparing more \n",
    "than two groups"
   ]
  },
  {
   "cell_type": "code",
   "execution_count": 52,
   "id": "038926d2-d283-4e6a-896c-bce36b3c5e98",
   "metadata": {},
   "outputs": [
    {
     "data": {
      "text/plain": [
       "'\\nControl of Type I Error: Conducting multiple t-tests increases the risk of committing a Type I error (false positive). \\nANOVA controls this risk by testing all group means simultaneously.\\n\\nEfficiency: ANOVA is more efficient as it provides a single test to determine \\nif there are any significant differences among the group means, rather than performing multiple pairwise comparisons.\\n\\nComprehensive Analysis: ANOVA can handle more complex experimental designs and interactions between factors, \\nproviding a more comprehensive analysis of the data.'"
      ]
     },
     "execution_count": 52,
     "metadata": {},
     "output_type": "execute_result"
    }
   ],
   "source": [
    "'''\n",
    "Control of Type I Error: Conducting multiple t-tests increases the risk of committing a Type I error (false positive). \n",
    "ANOVA controls this risk by testing all group means simultaneously.\n",
    "\n",
    "Efficiency: ANOVA is more efficient as it provides a single test to determine \n",
    "if there are any significant differences among the group means, rather than performing multiple pairwise comparisons.\n",
    "\n",
    "Comprehensive Analysis: ANOVA can handle more complex experimental designs and interactions between factors, \n",
    "providing a more comprehensive analysis of the data.'''"
   ]
  },
  {
   "cell_type": "markdown",
   "id": "cedee536-dfab-4db9-be38-f41daf2e1e0a",
   "metadata": {},
   "source": [
    " 6. Explain how variance is partitioned in ANOVA into between-group variance and within-group variance. \n",
    "How does this partitioning contribute to the calculation of the F-statistic"
   ]
  },
  {
   "cell_type": "code",
   "execution_count": 55,
   "id": "6971142d-42ff-44a6-a5e6-f1522986be24",
   "metadata": {},
   "outputs": [
    {
     "data": {
      "text/plain": [
       "'\\nBetween-Group Variance (MSB): Measures the variation due to the interaction between the different groups.\\nIt reflects how much the group means differ from the overall mean.\\n\\nWithin-Group Variance (MSW): Measures the variation within each group.\\nIt reflects how much the individual observations within each group differ from their respective group mean.\\n\\nThis partitioning helps determine if the differences between group means are statistically significant\\n'"
      ]
     },
     "execution_count": 55,
     "metadata": {},
     "output_type": "execute_result"
    }
   ],
   "source": [
    "'''\n",
    "Between-Group Variance (MSB): Measures the variation due to the interaction between the different groups.\n",
    "It reflects how much the group means differ from the overall mean.\n",
    "\n",
    "Within-Group Variance (MSW): Measures the variation within each group.\n",
    "It reflects how much the individual observations within each group differ from their respective group mean.\n",
    "\n",
    "This partitioning helps determine if the differences between group means are statistically significant\n",
    "'''"
   ]
  },
  {
   "cell_type": "markdown",
   "id": "1de5cbce-fa87-47f9-96d4-9700b047d664",
   "metadata": {},
   "source": [
    "7. Compare the classical (frequentist) approach to ANOVA with the Bayesian approach. What are the key \n",
    "differences in terms of how they handle uncertainty, parameter estimation, and hypothesis testing?"
   ]
  },
  {
   "cell_type": "code",
   "execution_count": 58,
   "id": "fe6f1e43-9305-4151-ae01-8eea2b117b81",
   "metadata": {},
   "outputs": [
    {
     "data": {
      "text/plain": [
       "'\\nHandling Uncertainty:\\nFrequentist: Parameters are fixed but unknown. Uncertainty is in the data.\\nBayesian: Parameters are random variables with prior distributions. Uncertainty is updated with data.\\n\\nParameter Estimation:\\nFrequentist: Uses point estimates and confidence intervals.\\nBayesian: Uses posterior distributions and credible intervals.\\n\\nHypothesis Testing:\\nFrequentist: Relies on p-values to test hypotheses.\\nBayesian: Uses Bayes factors or posterior probabilities.\\n\\nIncorporation of Prior Information:\\nFrequentist: Does not use prior information.\\n\\nBayesian: Incorporates prior information through prior distributions.\\nInterpretation of Results:\\n\\nFrequentist: Based on long-run frequencies (e.g., confidence intervals).\\nBayesian: Based on probability (e.g., credible intervals).\\n'"
      ]
     },
     "execution_count": 58,
     "metadata": {},
     "output_type": "execute_result"
    }
   ],
   "source": [
    "'''\n",
    "Handling Uncertainty:\n",
    "Frequentist: Parameters are fixed but unknown. Uncertainty is in the data.\n",
    "Bayesian: Parameters are random variables with prior distributions. Uncertainty is updated with data.\n",
    "\n",
    "Parameter Estimation:\n",
    "Frequentist: Uses point estimates and confidence intervals.\n",
    "Bayesian: Uses posterior distributions and credible intervals.\n",
    "\n",
    "Hypothesis Testing:\n",
    "Frequentist: Relies on p-values to test hypotheses.\n",
    "Bayesian: Uses Bayes factors or posterior probabilities.\n",
    "\n",
    "Incorporation of Prior Information:\n",
    "Frequentist: Does not use prior information.\n",
    "\n",
    "Bayesian: Incorporates prior information through prior distributions.\n",
    "Interpretation of Results:\n",
    "\n",
    "Frequentist: Based on long-run frequencies (e.g., confidence intervals).\n",
    "Bayesian: Based on probability (e.g., credible intervals).\n",
    "'''"
   ]
  },
  {
   "cell_type": "markdown",
   "id": "e637d9e6-fd37-4288-9e26-8cd426eae6a0",
   "metadata": {},
   "source": [
    "Q8."
   ]
  },
  {
   "cell_type": "code",
   "execution_count": 61,
   "id": "5abd0dc7-1d62-47ca-aa06-1980256f3a06",
   "metadata": {},
   "outputs": [
    {
     "name": "stdout",
     "output_type": "stream",
     "text": [
      "F-statistic: 2.089171974522293\n",
      "p-value: 0.24652429950266952\n"
     ]
    }
   ],
   "source": [
    "import numpy as np\n",
    "from scipy.stats import f\n",
    "\n",
    "profession_A = [48, 52, 55, 60, 62]\n",
    "profession_B = [45, 50, 55, 52, 47]\n",
    "\n",
    "var_A = np.var(profession_A, ddof=1)\n",
    "var_B = np.var(profession_B, ddof=1)\n",
    "\n",
    "F = var_A / var_B\n",
    "\n",
    "df1 = len(profession_A) - 1\n",
    "df2 = len(profession_B) - 1\n",
    "\n",
    "p_value = 1 - f.cdf(F, df1, df2)\n",
    "\n",
    "print(\"F-statistic:\", F)\n",
    "print(\"p-value:\", p_value)\n"
   ]
  },
  {
   "cell_type": "markdown",
   "id": "e18ad504-3141-4eff-a23b-c10e9401213a",
   "metadata": {},
   "source": [
    "Q9."
   ]
  },
  {
   "cell_type": "code",
   "execution_count": 64,
   "id": "6e5e4c15-5b60-47cc-a6bc-72963ea409ad",
   "metadata": {},
   "outputs": [
    {
     "name": "stdout",
     "output_type": "stream",
     "text": [
      "F-statistic: 67.87330316742101\n",
      "p-value: 2.870664187937026e-07\n"
     ]
    }
   ],
   "source": [
    "import numpy as np\n",
    "from scipy import stats\n",
    "\n",
    "region_A = [160, 162, 165, 158, 164]\n",
    "region_B = [172, 175, 170, 168, 174]\n",
    "region_C = [180, 182, 179, 185, 183]\n",
    "\n",
    "f_statistic, p_value = stats.f_oneway(region_A, region_B, region_C)\n",
    "\n",
    "print(\"F-statistic:\", f_statistic)\n",
    "print(\"p-value:\", p_value)\n"
   ]
  }
 ],
 "metadata": {
  "kernelspec": {
   "display_name": "Python 3 (ipykernel)",
   "language": "python",
   "name": "python3"
  },
  "language_info": {
   "codemirror_mode": {
    "name": "ipython",
    "version": 3
   },
   "file_extension": ".py",
   "mimetype": "text/x-python",
   "name": "python",
   "nbconvert_exporter": "python",
   "pygments_lexer": "ipython3",
   "version": "3.12.4"
  }
 },
 "nbformat": 4,
 "nbformat_minor": 5
}
